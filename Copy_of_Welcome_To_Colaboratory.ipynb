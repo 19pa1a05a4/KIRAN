{
  "nbformat": 4,
  "nbformat_minor": 0,
  "metadata": {
    "colab": {
      "name": "Copy of Welcome To Colaboratory",
      "provenance": [],
      "collapsed_sections": [],
      "include_colab_link": true
    },
    "kernelspec": {
      "display_name": "Python 3",
      "name": "python3"
    }
  },
  "cells": [
    {
      "cell_type": "markdown",
      "metadata": {
        "id": "view-in-github",
        "colab_type": "text"
      },
      "source": [
        "<a href=\"https://colab.research.google.com/github/19pa1a05a4/KIRAN/blob/master/Copy_of_Welcome_To_Colaboratory.ipynb\" target=\"_parent\"><img src=\"https://colab.research.google.com/assets/colab-badge.svg\" alt=\"Open In Colab\"/></a>"
      ]
    },
    {
      "cell_type": "markdown",
      "metadata": {
        "id": "gtlnSkug7cjG",
        "colab_type": "text"
      },
      "source": [
        ""
      ]
    },
    {
      "cell_type": "markdown",
      "metadata": {
        "id": "R0vG-yxAvqOc",
        "colab_type": "text"
      },
      "source": [
        "The data set describes the international migration in august 2019 by estimating the migrations by ages.\n",
        "\n",
        "Description about the features:\n",
        "1)the first column describes about the number of migrants\n",
        "\n",
        "2)year_month : It describes about the year and month of the migrant when                 the person migrated.\n",
        "\n",
        "3)month_of _release : It describes about the year and month of the                              release i.e,august 2019.\n",
        "\n",
        "4)passenger_type : This feature describes about the the type of the                          migrant as the person is long-term or short-term                          migrant. \n",
        "\n",
        "5)direction : This feature describes the direction of the migrant as the                person is arrives or departures.\n",
        "\n",
        "6)sex : It describes about the gender of the migrant.\n",
        "\n",
        "7)age : It gives the data about the age group of the migrants with the            range of four years.\n",
        "\n",
        "8)estimate : This feature estimates the number of people migrated at that              particular time at particular age group.\n",
        "\n",
        "9)standard_error : It gives the standard error. \n",
        "\n",
        "10)status : It finally gives the status of the data as it is provisional              or final.\n",
        "\n",
        "QUESTIONS:\n",
        "          1)We do not need standard error.How can we delete it with panda?\n",
        "\n",
        "          2)What are number of female and male in data?\n",
        "\n",
        "          3)What is the count of male and female in the range of years?\n",
        "\n",
        "          4)What is the maximum value of female and males?\n",
        "\n",
        "          5)Find the total provisional and final status in the data?"
      ]
    },
    {
      "cell_type": "code",
      "metadata": {
        "id": "YHdSbqRPi1c8",
        "colab_type": "code",
        "colab": {}
      },
      "source": [
        "import numpy as np\n",
        "import pandas as pd\n",
        "import matplotlib.pyplot as plt\n"
      ],
      "execution_count": 0,
      "outputs": []
    },
    {
      "cell_type": "code",
      "metadata": {
        "id": "U3ooOMCQjEFH",
        "colab_type": "code",
        "outputId": "1c4bf10b-0213-48da-8a87-4ae8458f520e",
        "colab": {
          "base_uri": "https://localhost:8080/",
          "height": 180
        }
      },
      "source": [
        "gg=pd.read_csv(\"chinnu.csv\")\n",
        "gg"
      ],
      "execution_count": 0,
      "outputs": [
        {
          "output_type": "error",
          "ename": "NameError",
          "evalue": "ignored",
          "traceback": [
            "\u001b[0;31m---------------------------------------------------------------------------\u001b[0m",
            "\u001b[0;31mNameError\u001b[0m                                 Traceback (most recent call last)",
            "\u001b[0;32m<ipython-input-2-9976aff55141>\u001b[0m in \u001b[0;36m<module>\u001b[0;34m()\u001b[0m\n\u001b[0;32m----> 1\u001b[0;31m \u001b[0mgg\u001b[0m\u001b[0;34m=\u001b[0m\u001b[0mpd\u001b[0m\u001b[0;34m.\u001b[0m\u001b[0mread_csv\u001b[0m\u001b[0;34m(\u001b[0m\u001b[0;34m\"chinnu.csv\"\u001b[0m\u001b[0;34m)\u001b[0m\u001b[0;34m\u001b[0m\u001b[0;34m\u001b[0m\u001b[0m\n\u001b[0m\u001b[1;32m      2\u001b[0m \u001b[0mgg\u001b[0m\u001b[0;34m\u001b[0m\u001b[0;34m\u001b[0m\u001b[0m\n",
            "\u001b[0;31mNameError\u001b[0m: name 'pd' is not defined"
          ]
        }
      ]
    },
    {
      "cell_type": "markdown",
      "metadata": {
        "id": "ACzenyT-tYt8",
        "colab_type": "text"
      },
      "source": [
        ""
      ]
    },
    {
      "cell_type": "code",
      "metadata": {
        "id": "xFKUze-Mjlm_",
        "colab_type": "code",
        "outputId": "e42f4156-84f1-469e-d4fa-e840ec2e85cf",
        "colab": {
          "base_uri": "https://localhost:8080/",
          "height": 419
        }
      },
      "source": [
        "del gg[\"standard_error\"]\n",
        "gg"
      ],
      "execution_count": 0,
      "outputs": [
        {
          "output_type": "execute_result",
          "data": {
            "text/html": [
              "<div>\n",
              "<style scoped>\n",
              "    .dataframe tbody tr th:only-of-type {\n",
              "        vertical-align: middle;\n",
              "    }\n",
              "\n",
              "    .dataframe tbody tr th {\n",
              "        vertical-align: top;\n",
              "    }\n",
              "\n",
              "    .dataframe thead th {\n",
              "        text-align: right;\n",
              "    }\n",
              "</style>\n",
              "<table border=\"1\" class=\"dataframe\">\n",
              "  <thead>\n",
              "    <tr style=\"text-align: right;\">\n",
              "      <th></th>\n",
              "      <th>year_month</th>\n",
              "      <th>month_of_release</th>\n",
              "      <th>passenger_type</th>\n",
              "      <th>direction</th>\n",
              "      <th>sex</th>\n",
              "      <th>age</th>\n",
              "      <th>estimate</th>\n",
              "      <th>status</th>\n",
              "    </tr>\n",
              "  </thead>\n",
              "  <tbody>\n",
              "    <tr>\n",
              "      <th>0</th>\n",
              "      <td>2018-04</td>\n",
              "      <td>2019-08</td>\n",
              "      <td>Long-term migrant</td>\n",
              "      <td>Arrivals</td>\n",
              "      <td>Female</td>\n",
              "      <td>0-4 years</td>\n",
              "      <td>295</td>\n",
              "      <td>Final</td>\n",
              "    </tr>\n",
              "    <tr>\n",
              "      <th>1</th>\n",
              "      <td>2018-05</td>\n",
              "      <td>2019-08</td>\n",
              "      <td>Long-term migrant</td>\n",
              "      <td>Arrivals</td>\n",
              "      <td>Female</td>\n",
              "      <td>0-4 years</td>\n",
              "      <td>294</td>\n",
              "      <td>Provisional</td>\n",
              "    </tr>\n",
              "    <tr>\n",
              "      <th>2</th>\n",
              "      <td>2018-06</td>\n",
              "      <td>2019-08</td>\n",
              "      <td>Long-term migrant</td>\n",
              "      <td>Arrivals</td>\n",
              "      <td>Female</td>\n",
              "      <td>0-4 years</td>\n",
              "      <td>316</td>\n",
              "      <td>Provisional</td>\n",
              "    </tr>\n",
              "    <tr>\n",
              "      <th>3</th>\n",
              "      <td>2018-07</td>\n",
              "      <td>2019-08</td>\n",
              "      <td>Long-term migrant</td>\n",
              "      <td>Arrivals</td>\n",
              "      <td>Female</td>\n",
              "      <td>0-4 years</td>\n",
              "      <td>317</td>\n",
              "      <td>Provisional</td>\n",
              "    </tr>\n",
              "    <tr>\n",
              "      <th>4</th>\n",
              "      <td>2018-08</td>\n",
              "      <td>2019-08</td>\n",
              "      <td>Long-term migrant</td>\n",
              "      <td>Arrivals</td>\n",
              "      <td>Female</td>\n",
              "      <td>0-4 years</td>\n",
              "      <td>407</td>\n",
              "      <td>Provisional</td>\n",
              "    </tr>\n",
              "    <tr>\n",
              "      <th>...</th>\n",
              "      <td>...</td>\n",
              "      <td>...</td>\n",
              "      <td>...</td>\n",
              "      <td>...</td>\n",
              "      <td>...</td>\n",
              "      <td>...</td>\n",
              "      <td>...</td>\n",
              "      <td>...</td>\n",
              "    </tr>\n",
              "    <tr>\n",
              "      <th>36924</th>\n",
              "      <td>2019-01</td>\n",
              "      <td>2019-01</td>\n",
              "      <td>Long-term migrant</td>\n",
              "      <td>Net</td>\n",
              "      <td>TOTAL</td>\n",
              "      <td>75-79 years</td>\n",
              "      <td>53</td>\n",
              "      <td>Provisional</td>\n",
              "    </tr>\n",
              "    <tr>\n",
              "      <th>36925</th>\n",
              "      <td>2019-01</td>\n",
              "      <td>2019-01</td>\n",
              "      <td>Long-term migrant</td>\n",
              "      <td>Net</td>\n",
              "      <td>TOTAL</td>\n",
              "      <td>80-84 years</td>\n",
              "      <td>25</td>\n",
              "      <td>Provisional</td>\n",
              "    </tr>\n",
              "    <tr>\n",
              "      <th>36926</th>\n",
              "      <td>2019-01</td>\n",
              "      <td>2019-01</td>\n",
              "      <td>Long-term migrant</td>\n",
              "      <td>Net</td>\n",
              "      <td>TOTAL</td>\n",
              "      <td>85-89 years</td>\n",
              "      <td>13</td>\n",
              "      <td>Provisional</td>\n",
              "    </tr>\n",
              "    <tr>\n",
              "      <th>36927</th>\n",
              "      <td>2019-01</td>\n",
              "      <td>2019-01</td>\n",
              "      <td>Long-term migrant</td>\n",
              "      <td>Net</td>\n",
              "      <td>TOTAL</td>\n",
              "      <td>90+ years</td>\n",
              "      <td>3</td>\n",
              "      <td>Provisional</td>\n",
              "    </tr>\n",
              "    <tr>\n",
              "      <th>36928</th>\n",
              "      <td>2019-01</td>\n",
              "      <td>2019-01</td>\n",
              "      <td>Long-term migrant</td>\n",
              "      <td>Net</td>\n",
              "      <td>TOTAL</td>\n",
              "      <td>TOTAL</td>\n",
              "      <td>9243</td>\n",
              "      <td>Provisional</td>\n",
              "    </tr>\n",
              "  </tbody>\n",
              "</table>\n",
              "<p>36929 rows × 8 columns</p>\n",
              "</div>"
            ],
            "text/plain": [
              "      year_month month_of_release  ... estimate       status\n",
              "0        2018-04          2019-08  ...      295        Final\n",
              "1        2018-05          2019-08  ...      294  Provisional\n",
              "2        2018-06          2019-08  ...      316  Provisional\n",
              "3        2018-07          2019-08  ...      317  Provisional\n",
              "4        2018-08          2019-08  ...      407  Provisional\n",
              "...          ...              ...  ...      ...          ...\n",
              "36924    2019-01          2019-01  ...       53  Provisional\n",
              "36925    2019-01          2019-01  ...       25  Provisional\n",
              "36926    2019-01          2019-01  ...       13  Provisional\n",
              "36927    2019-01          2019-01  ...        3  Provisional\n",
              "36928    2019-01          2019-01  ...     9243  Provisional\n",
              "\n",
              "[36929 rows x 8 columns]"
            ]
          },
          "metadata": {
            "tags": []
          },
          "execution_count": 3
        }
      ]
    },
    {
      "cell_type": "code",
      "metadata": {
        "id": "J7UhygZ1kBrx",
        "colab_type": "code",
        "outputId": "7ffc4521-96f4-4e4c-8f26-04bd65711989",
        "colab": {
          "base_uri": "https://localhost:8080/",
          "height": 85
        }
      },
      "source": [
        "gg[\"sex\"].value_counts()"
      ],
      "execution_count": 0,
      "outputs": [
        {
          "output_type": "execute_result",
          "data": {
            "text/plain": [
              "TOTAL     12360\n",
              "Female    12301\n",
              "Male      12268\n",
              "Name: sex, dtype: int64"
            ]
          },
          "metadata": {
            "tags": []
          },
          "execution_count": 4
        }
      ]
    },
    {
      "cell_type": "code",
      "metadata": {
        "id": "PQwThiGfkXMl",
        "colab_type": "code",
        "outputId": "3f41905d-66cf-4f14-c64f-5b509704ee5c",
        "colab": {
          "base_uri": "https://localhost:8080/",
          "height": 1000
        }
      },
      "source": [
        "oo=gg.groupby([\"age\",\"sex\"],sort=True).size()\n",
        "oo"
      ],
      "execution_count": 0,
      "outputs": [
        {
          "output_type": "execute_result",
          "data": {
            "text/plain": [
              "age          sex   \n",
              "0-4 years    Female    618\n",
              "             Male      618\n",
              "             TOTAL     618\n",
              "10-14 years  Female    618\n",
              "             Male      618\n",
              "             TOTAL     618\n",
              "15-19 years  Female    618\n",
              "             Male      618\n",
              "             TOTAL     618\n",
              "20-24 years  Female    618\n",
              "             Male      618\n",
              "             TOTAL     618\n",
              "25-29 years  Female    618\n",
              "             Male      618\n",
              "             TOTAL     618\n",
              "30-34 years  Female    618\n",
              "             Male      618\n",
              "             TOTAL     618\n",
              "35-39 years  Female    618\n",
              "             Male      618\n",
              "             TOTAL     618\n",
              "40-44 years  Female    618\n",
              "             Male      618\n",
              "             TOTAL     618\n",
              "45-49 years  Female    617\n",
              "             Male      618\n",
              "             TOTAL     618\n",
              "5-9 years    Female    618\n",
              "             Male      618\n",
              "             TOTAL     618\n",
              "50-54 years  Female    618\n",
              "             Male      618\n",
              "             TOTAL     618\n",
              "55-59 years  Female    618\n",
              "             Male      618\n",
              "             TOTAL     618\n",
              "60-64 years  Female    618\n",
              "             Male      618\n",
              "             TOTAL     618\n",
              "65-69 years  Female    616\n",
              "             Male      618\n",
              "             TOTAL     618\n",
              "70-74 years  Female    617\n",
              "             Male      616\n",
              "             TOTAL     618\n",
              "75-79 years  Female    617\n",
              "             Male      618\n",
              "             TOTAL     618\n",
              "80-84 years  Female    612\n",
              "             Male      614\n",
              "             TOTAL     618\n",
              "85-89 years  Female    615\n",
              "             Male      601\n",
              "             TOTAL     618\n",
              "90+ years    Female    573\n",
              "             Male      549\n",
              "             TOTAL     618\n",
              "TOTAL        Female    618\n",
              "             Male      618\n",
              "             TOTAL     618\n",
              "dtype: int64"
            ]
          },
          "metadata": {
            "tags": []
          },
          "execution_count": 11
        }
      ]
    },
    {
      "cell_type": "code",
      "metadata": {
        "id": "a3QfxA5ClklU",
        "colab_type": "code",
        "outputId": "276ee9ff-7cb4-4400-bab1-c5380c7fd524",
        "colab": {
          "base_uri": "https://localhost:8080/",
          "height": 173
        }
      },
      "source": [
        "gg.groupby([\"sex\"]).max()"
      ],
      "execution_count": 0,
      "outputs": [
        {
          "output_type": "execute_result",
          "data": {
            "text/html": [
              "<div>\n",
              "<style scoped>\n",
              "    .dataframe tbody tr th:only-of-type {\n",
              "        vertical-align: middle;\n",
              "    }\n",
              "\n",
              "    .dataframe tbody tr th {\n",
              "        vertical-align: top;\n",
              "    }\n",
              "\n",
              "    .dataframe thead th {\n",
              "        text-align: right;\n",
              "    }\n",
              "</style>\n",
              "<table border=\"1\" class=\"dataframe\">\n",
              "  <thead>\n",
              "    <tr style=\"text-align: right;\">\n",
              "      <th></th>\n",
              "      <th>year_month</th>\n",
              "      <th>month_of_release</th>\n",
              "      <th>passenger_type</th>\n",
              "      <th>direction</th>\n",
              "      <th>age</th>\n",
              "      <th>estimate</th>\n",
              "      <th>status</th>\n",
              "    </tr>\n",
              "    <tr>\n",
              "      <th>sex</th>\n",
              "      <th></th>\n",
              "      <th></th>\n",
              "      <th></th>\n",
              "      <th></th>\n",
              "      <th></th>\n",
              "      <th></th>\n",
              "      <th></th>\n",
              "    </tr>\n",
              "  </thead>\n",
              "  <tbody>\n",
              "    <tr>\n",
              "      <th>Female</th>\n",
              "      <td>2019-08</td>\n",
              "      <td>2019-08</td>\n",
              "      <td>Long-term migrant</td>\n",
              "      <td>Net</td>\n",
              "      <td>TOTAL</td>\n",
              "      <td>8421</td>\n",
              "      <td>Provisional</td>\n",
              "    </tr>\n",
              "    <tr>\n",
              "      <th>Male</th>\n",
              "      <td>2019-08</td>\n",
              "      <td>2019-08</td>\n",
              "      <td>Long-term migrant</td>\n",
              "      <td>Net</td>\n",
              "      <td>TOTAL</td>\n",
              "      <td>8657</td>\n",
              "      <td>Provisional</td>\n",
              "    </tr>\n",
              "    <tr>\n",
              "      <th>TOTAL</th>\n",
              "      <td>2019-08</td>\n",
              "      <td>2019-08</td>\n",
              "      <td>Long-term migrant</td>\n",
              "      <td>Net</td>\n",
              "      <td>TOTAL</td>\n",
              "      <td>17078</td>\n",
              "      <td>Provisional</td>\n",
              "    </tr>\n",
              "  </tbody>\n",
              "</table>\n",
              "</div>"
            ],
            "text/plain": [
              "       year_month month_of_release  ... estimate       status\n",
              "sex                                 ...                      \n",
              "Female    2019-08          2019-08  ...     8421  Provisional\n",
              "Male      2019-08          2019-08  ...     8657  Provisional\n",
              "TOTAL     2019-08          2019-08  ...    17078  Provisional\n",
              "\n",
              "[3 rows x 7 columns]"
            ]
          },
          "metadata": {
            "tags": []
          },
          "execution_count": 13
        }
      ]
    },
    {
      "cell_type": "code",
      "metadata": {
        "id": "V-7QPILfnN2y",
        "colab_type": "code",
        "outputId": "098a24c3-642b-43eb-c4d6-9e529825e3fe",
        "colab": {
          "base_uri": "https://localhost:8080/",
          "height": 68
        }
      },
      "source": [
        "gg[\"status\"].value_counts()"
      ],
      "execution_count": 0,
      "outputs": [
        {
          "output_type": "execute_result",
          "data": {
            "text/plain": [
              "Provisional    28560\n",
              "Final           8369\n",
              "Name: status, dtype: int64"
            ]
          },
          "metadata": {
            "tags": []
          },
          "execution_count": 14
        }
      ]
    },
    {
      "cell_type": "code",
      "metadata": {
        "id": "rhSj22ncnkAf",
        "colab_type": "code",
        "outputId": "f8388ef1-a0b7-4e34-e10e-d55bc102a7da",
        "colab": {
          "base_uri": "https://localhost:8080/",
          "height": 461
        }
      },
      "source": [
        "plt.figure(figsize=(10,7))\n",
        "x=gg[\"estimate\"]\n",
        "plt.hist(x,bins=20,color=\"blue\")\n",
        "plt.title(\"estimate\")"
      ],
      "execution_count": 0,
      "outputs": [
        {
          "output_type": "execute_result",
          "data": {
            "text/plain": [
              "Text(0.5, 1.0, 'estimate')"
            ]
          },
          "metadata": {
            "tags": []
          },
          "execution_count": 16
        },
        {
          "output_type": "display_data",
          "data": {
            "image/png": "[encoded data removed]",
            "text/plain": [
              "<Figure size 720x504 with 1 Axes>"
            ]
          },
          "metadata": {
            "tags": []
          }
        }
      ]
    },
    {
      "cell_type": "code",
      "metadata": {
        "id": "WCx7O_l6oX6_",
        "colab_type": "code",
        "outputId": "ef77569e-6187-4b61-eb32-af76cbdcf054",
        "colab": {
          "base_uri": "https://localhost:8080/",
          "height": 51
        }
      },
      "source": [
        "gg.mean()"
      ],
      "execution_count": 0,
      "outputs": [
        {
          "output_type": "execute_result",
          "data": {
            "text/plain": [
              "estimate    541.147743\n",
              "dtype: float64"
            ]
          },
          "metadata": {
            "tags": []
          },
          "execution_count": 17
        }
      ]
    },
    {
      "cell_type": "code",
      "metadata": {
        "id": "XJmHZ5mqojip",
        "colab_type": "code",
        "outputId": "3c22a47c-09db-4e9f-eab1-fe4371d3c945",
        "colab": {
          "base_uri": "https://localhost:8080/",
          "height": 170
        }
      },
      "source": [
        "gg.dtypes"
      ],
      "execution_count": 0,
      "outputs": [
        {
          "output_type": "execute_result",
          "data": {
            "text/plain": [
              "year_month          object\n",
              "month_of_release    object\n",
              "passenger_type      object\n",
              "direction           object\n",
              "sex                 object\n",
              "age                 object\n",
              "estimate             int64\n",
              "status              object\n",
              "dtype: object"
            ]
          },
          "metadata": {
            "tags": []
          },
          "execution_count": 19
        }
      ]
    },
    {
      "cell_type": "code",
      "metadata": {
        "id": "sh5nFXDnopzt",
        "colab_type": "code",
        "outputId": "26f25e4d-b5e8-42f4-d39e-a0bce6d8ecef",
        "colab": {
          "base_uri": "https://localhost:8080/",
          "height": 51
        }
      },
      "source": [
        "gg.median()"
      ],
      "execution_count": 0,
      "outputs": [
        {
          "output_type": "execute_result",
          "data": {
            "text/plain": [
              "estimate    175.0\n",
              "dtype: float64"
            ]
          },
          "metadata": {
            "tags": []
          },
          "execution_count": 20
        }
      ]
    },
    {
      "cell_type": "code",
      "metadata": {
        "id": "CjSNkkLUoucV",
        "colab_type": "code",
        "outputId": "c00cfaaf-0e4b-41f7-c293-d20fc91a4e4a",
        "colab": {
          "base_uri": "https://localhost:8080/",
          "height": 452
        }
      },
      "source": [
        "gg.mode()"
      ],
      "execution_count": 0,
      "outputs": [
        {
          "output_type": "execute_result",
          "data": {
            "text/html": [
              "<div>\n",
              "<style scoped>\n",
              "    .dataframe tbody tr th:only-of-type {\n",
              "        vertical-align: middle;\n",
              "    }\n",
              "\n",
              "    .dataframe tbody tr th {\n",
              "        vertical-align: top;\n",
              "    }\n",
              "\n",
              "    .dataframe thead th {\n",
              "        text-align: right;\n",
              "    }\n",
              "</style>\n",
              "<table border=\"1\" class=\"dataframe\">\n",
              "  <thead>\n",
              "    <tr style=\"text-align: right;\">\n",
              "      <th></th>\n",
              "      <th>year_month</th>\n",
              "      <th>month_of_release</th>\n",
              "      <th>passenger_type</th>\n",
              "      <th>direction</th>\n",
              "      <th>sex</th>\n",
              "      <th>age</th>\n",
              "      <th>estimate</th>\n",
              "      <th>status</th>\n",
              "    </tr>\n",
              "  </thead>\n",
              "  <tbody>\n",
              "    <tr>\n",
              "      <th>0</th>\n",
              "      <td>2018-04</td>\n",
              "      <td>2018-12</td>\n",
              "      <td>Long-term migrant</td>\n",
              "      <td>Departures</td>\n",
              "      <td>TOTAL</td>\n",
              "      <td>0-4 years</td>\n",
              "      <td>1.0</td>\n",
              "      <td>Provisional</td>\n",
              "    </tr>\n",
              "    <tr>\n",
              "      <th>1</th>\n",
              "      <td>NaN</td>\n",
              "      <td>NaN</td>\n",
              "      <td>NaN</td>\n",
              "      <td>NaN</td>\n",
              "      <td>NaN</td>\n",
              "      <td>10-14 years</td>\n",
              "      <td>NaN</td>\n",
              "      <td>NaN</td>\n",
              "    </tr>\n",
              "    <tr>\n",
              "      <th>2</th>\n",
              "      <td>NaN</td>\n",
              "      <td>NaN</td>\n",
              "      <td>NaN</td>\n",
              "      <td>NaN</td>\n",
              "      <td>NaN</td>\n",
              "      <td>15-19 years</td>\n",
              "      <td>NaN</td>\n",
              "      <td>NaN</td>\n",
              "    </tr>\n",
              "    <tr>\n",
              "      <th>3</th>\n",
              "      <td>NaN</td>\n",
              "      <td>NaN</td>\n",
              "      <td>NaN</td>\n",
              "      <td>NaN</td>\n",
              "      <td>NaN</td>\n",
              "      <td>20-24 years</td>\n",
              "      <td>NaN</td>\n",
              "      <td>NaN</td>\n",
              "    </tr>\n",
              "    <tr>\n",
              "      <th>4</th>\n",
              "      <td>NaN</td>\n",
              "      <td>NaN</td>\n",
              "      <td>NaN</td>\n",
              "      <td>NaN</td>\n",
              "      <td>NaN</td>\n",
              "      <td>25-29 years</td>\n",
              "      <td>NaN</td>\n",
              "      <td>NaN</td>\n",
              "    </tr>\n",
              "    <tr>\n",
              "      <th>5</th>\n",
              "      <td>NaN</td>\n",
              "      <td>NaN</td>\n",
              "      <td>NaN</td>\n",
              "      <td>NaN</td>\n",
              "      <td>NaN</td>\n",
              "      <td>30-34 years</td>\n",
              "      <td>NaN</td>\n",
              "      <td>NaN</td>\n",
              "    </tr>\n",
              "    <tr>\n",
              "      <th>6</th>\n",
              "      <td>NaN</td>\n",
              "      <td>NaN</td>\n",
              "      <td>NaN</td>\n",
              "      <td>NaN</td>\n",
              "      <td>NaN</td>\n",
              "      <td>35-39 years</td>\n",
              "      <td>NaN</td>\n",
              "      <td>NaN</td>\n",
              "    </tr>\n",
              "    <tr>\n",
              "      <th>7</th>\n",
              "      <td>NaN</td>\n",
              "      <td>NaN</td>\n",
              "      <td>NaN</td>\n",
              "      <td>NaN</td>\n",
              "      <td>NaN</td>\n",
              "      <td>40-44 years</td>\n",
              "      <td>NaN</td>\n",
              "      <td>NaN</td>\n",
              "    </tr>\n",
              "    <tr>\n",
              "      <th>8</th>\n",
              "      <td>NaN</td>\n",
              "      <td>NaN</td>\n",
              "      <td>NaN</td>\n",
              "      <td>NaN</td>\n",
              "      <td>NaN</td>\n",
              "      <td>5-9 years</td>\n",
              "      <td>NaN</td>\n",
              "      <td>NaN</td>\n",
              "    </tr>\n",
              "    <tr>\n",
              "      <th>9</th>\n",
              "      <td>NaN</td>\n",
              "      <td>NaN</td>\n",
              "      <td>NaN</td>\n",
              "      <td>NaN</td>\n",
              "      <td>NaN</td>\n",
              "      <td>50-54 years</td>\n",
              "      <td>NaN</td>\n",
              "      <td>NaN</td>\n",
              "    </tr>\n",
              "    <tr>\n",
              "      <th>10</th>\n",
              "      <td>NaN</td>\n",
              "      <td>NaN</td>\n",
              "      <td>NaN</td>\n",
              "      <td>NaN</td>\n",
              "      <td>NaN</td>\n",
              "      <td>55-59 years</td>\n",
              "      <td>NaN</td>\n",
              "      <td>NaN</td>\n",
              "    </tr>\n",
              "    <tr>\n",
              "      <th>11</th>\n",
              "      <td>NaN</td>\n",
              "      <td>NaN</td>\n",
              "      <td>NaN</td>\n",
              "      <td>NaN</td>\n",
              "      <td>NaN</td>\n",
              "      <td>60-64 years</td>\n",
              "      <td>NaN</td>\n",
              "      <td>NaN</td>\n",
              "    </tr>\n",
              "    <tr>\n",
              "      <th>12</th>\n",
              "      <td>NaN</td>\n",
              "      <td>NaN</td>\n",
              "      <td>NaN</td>\n",
              "      <td>NaN</td>\n",
              "      <td>NaN</td>\n",
              "      <td>TOTAL</td>\n",
              "      <td>NaN</td>\n",
              "      <td>NaN</td>\n",
              "    </tr>\n",
              "  </tbody>\n",
              "</table>\n",
              "</div>"
            ],
            "text/plain": [
              "   year_month month_of_release  ... estimate       status\n",
              "0     2018-04          2018-12  ...      1.0  Provisional\n",
              "1         NaN              NaN  ...      NaN          NaN\n",
              "2         NaN              NaN  ...      NaN          NaN\n",
              "3         NaN              NaN  ...      NaN          NaN\n",
              "4         NaN              NaN  ...      NaN          NaN\n",
              "5         NaN              NaN  ...      NaN          NaN\n",
              "6         NaN              NaN  ...      NaN          NaN\n",
              "7         NaN              NaN  ...      NaN          NaN\n",
              "8         NaN              NaN  ...      NaN          NaN\n",
              "9         NaN              NaN  ...      NaN          NaN\n",
              "10        NaN              NaN  ...      NaN          NaN\n",
              "11        NaN              NaN  ...      NaN          NaN\n",
              "12        NaN              NaN  ...      NaN          NaN\n",
              "\n",
              "[13 rows x 8 columns]"
            ]
          },
          "metadata": {
            "tags": []
          },
          "execution_count": 21
        }
      ]
    },
    {
      "cell_type": "markdown",
      "metadata": {
        "id": "99I2Asq8pReO",
        "colab_type": "text"
      },
      "source": [
        "CONCLUSION\n",
        "\n",
        "\n",
        "THANKS FOR PROVIDING THIS OPPURTUNITY\n",
        "\n",
        "\n",
        "\n",
        "1.WE LEARNED HOW TO USE GITHUB AND GOOGLE COLAB AND WE GAINED EXPERIENCE BY THIS PRROJECT\n",
        "2. WE LEARNED INTERESTING FACTS USING NUMPY AND PANDAS\n",
        "3.WE UNDERSTOOD THE IMPORTANCE OF NUMPY AND PANDAS"
      ]
    }
  ]
}